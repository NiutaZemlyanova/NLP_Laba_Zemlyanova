{
  "nbformat": 4,
  "nbformat_minor": 0,
  "metadata": {
    "colab": {
      "provenance": []
    },
    "kernelspec": {
      "name": "python3",
      "display_name": "Python 3"
    },
    "language_info": {
      "name": "python"
    }
  },
  "cells": [
    {
      "cell_type": "markdown",
      "source": [
        "Практическая работа «Векторное представление слов»\n",
        "Землянова Анна Группа 932001\n",
        "\n",
        "Задание:\n",
        "\n",
        "Используя import gensim, необходимо реализовать вычисление десяти самых близких по смыслу слов, находящихся в окрестности от результата операций сложения и вычитания в векторной модели.\n",
        "Дана пара слов: \"макароны\" и \"гуляш\". Необходимо найти такую линейную комбинацию исходных слов, чтобы в результате вычислений заданная пара попадала в первую десятку."
      ],
      "metadata": {
        "id": "NXW5vJTThCDv"
      }
    },
    {
      "cell_type": "code",
      "source": [
        "#подключим необходимые библиотеки\n",
        "import gensim\n",
        "import re"
      ],
      "metadata": {
        "id": "SkjLBdMkFCCC"
      },
      "execution_count": 94,
      "outputs": []
    },
    {
      "cell_type": "code",
      "source": [
        "pat = re.compile(\"(.*)_NOUN\")"
      ],
      "metadata": {
        "id": "lHIqKVglFZ5L"
      },
      "execution_count": 95,
      "outputs": []
    },
    {
      "cell_type": "code",
      "source": [
        "from google.colab import drive\n",
        "drive.mount('/content/drive')"
      ],
      "metadata": {
        "colab": {
          "base_uri": "https://localhost:8080/"
        },
        "id": "hn00zNM7IWaV",
        "outputId": "786b81c1-686b-4acf-b5b2-9e9fb2fa5d43"
      },
      "execution_count": 96,
      "outputs": [
        {
          "output_type": "stream",
          "name": "stdout",
          "text": [
            "Drive already mounted at /content/drive; to attempt to forcibly remount, call drive.mount(\"/content/drive\", force_remount=True).\n"
          ]
        }
      ]
    },
    {
      "cell_type": "code",
      "source": [
        "word2vec = gensim.models.KeyedVectors.load_word2vec_format(\"/content/drive/MyDrive/marigostra.ru_persist_cbow.txt\", binary=False, unicode_errors='ignore')"
      ],
      "metadata": {
        "id": "lY_iovaNFbID"
      },
      "execution_count": 97,
      "outputs": []
    },
    {
      "cell_type": "code",
      "source": [
        "pos = [\"макароны_NOUN\"]\n",
        "\n",
        "dist = word2vec.most_similar(positive=pos)\n",
        "for i in dist:\n",
        " print (i)"
      ],
      "metadata": {
        "colab": {
          "base_uri": "https://localhost:8080/"
        },
        "id": "8XT-Ect-R61S",
        "outputId": "9840a2dc-366e-424e-a3fd-e785594bf64e"
      },
      "execution_count": 98,
      "outputs": [
        {
          "output_type": "stream",
          "name": "stdout",
          "text": [
            "('вермишель_NOUN', 0.6713012456893921)\n",
            "('котлета_NOUN', 0.6559830904006958)\n",
            "('суп_NOUN', 0.6467346549034119)\n",
            "('сосиска_NOUN', 0.639721691608429)\n",
            "('пицца_NOUN', 0.6355180740356445)\n",
            "('салатик_NOUN', 0.6198334097862244)\n",
            "('тушенка_NOUN', 0.6189257502555847)\n",
            "('мороженый_NOUN', 0.6178051233291626)\n",
            "('сырник_NOUN', 0.6173768639564514)\n",
            "('пельмень_NOUN', 0.611790120601654)\n"
          ]
        }
      ]
    },
    {
      "cell_type": "code",
      "source": [
        "neg = [\"макароны_NOUN\"]\n",
        "\n",
        "dist = word2vec.most_similar(negative=neg, topn=10)\n",
        "for i in dist:\n",
        " print (i)"
      ],
      "metadata": {
        "colab": {
          "base_uri": "https://localhost:8080/"
        },
        "id": "FmaGz4rORZeu",
        "outputId": "42b573bb-af3e-4b7a-87a4-2df537b9fedf"
      },
      "execution_count": 99,
      "outputs": [
        {
          "output_type": "stream",
          "name": "stdout",
          "text": [
            "('плодомасов_PROPN', 0.2989765703678131)\n",
            "('вкраться_VERB', 0.2919518053531647)\n",
            "('робостие_NOUN', 0.27427011728286743)\n",
            "('плодомасовский_ADJ', 0.2657986283302307)\n",
            "('артамонов_PROPN', 0.26175665855407715)\n",
            "('внушение_NOUN', 0.2605426013469696)\n",
            "('иоанн_NOUN', 0.25962263345718384)\n",
            "('княжеский_PROPN', 0.25125938653945923)\n",
            "('властной_ADJ', 0.24713550508022308)\n",
            "('предходить_VERB', 0.24647337198257446)\n"
          ]
        }
      ]
    },
    {
      "cell_type": "code",
      "source": [
        "pos = [\"гуляш_NOUN\"]\n",
        "\n",
        "dist = word2vec.most_similar(positive=pos)\n",
        "for i in dist:\n",
        " print (i)"
      ],
      "metadata": {
        "colab": {
          "base_uri": "https://localhost:8080/"
        },
        "id": "g-wbxf68SavJ",
        "outputId": "0067bef2-c397-4037-822d-4c23f7269656"
      },
      "execution_count": 100,
      "outputs": [
        {
          "output_type": "stream",
          "name": "stdout",
          "text": [
            "('фрикаделька_NOUN', 0.6432052850723267)\n",
            "('супчик_NOUN', 0.6354181170463562)\n",
            "('котлета_NOUN', 0.6290426254272461)\n",
            "('котлетка_NOUN', 0.6251670122146606)\n",
            "('суп_NOUN', 0.6242210268974304)\n",
            "('запеканка_NOUN', 0.6228055357933044)\n",
            "('борщ_NOUN', 0.6174565553665161)\n",
            "('рассольник_NOUN', 0.6115661859512329)\n",
            "('клецка_NOUN', 0.6096355319023132)\n",
            "('биточек_NOUN', 0.6079260110855103)\n"
          ]
        }
      ]
    },
    {
      "cell_type": "code",
      "source": [
        "neg = [\"гуляш_NOUN\"]\n",
        "\n",
        "dist = word2vec.most_similar(negative=neg, topn=10)\n",
        "for i in dist:\n",
        " print (i)"
      ],
      "metadata": {
        "colab": {
          "base_uri": "https://localhost:8080/"
        },
        "id": "TdZRovwgScHU",
        "outputId": "6a5dbc6f-d7e2-4a20-a1f7-d2006ba2c2a2"
      },
      "execution_count": 101,
      "outputs": [
        {
          "output_type": "stream",
          "name": "stdout",
          "text": [
            "('изображаться_VERB', 0.247663676738739)\n",
            "('вскрываться_VERB', 0.2444426715373993)\n",
            "('опряжеть_VERB', 0.23798097670078278)\n",
            "('совращения_NOUN', 0.2345772683620453)\n",
            "('предостерегать_VERB', 0.23383885622024536)\n",
            "('вкраться_VERB', 0.23249714076519012)\n",
            "('необеспеченность_NOUN', 0.23111377656459808)\n",
            "('накопляться_VERB', 0.229661762714386)\n",
            "('сопряжеть_VERB', 0.22935284674167633)\n",
            "('изобличать_VERB', 0.2288813591003418)\n"
          ]
        }
      ]
    },
    {
      "cell_type": "code",
      "source": [
        "pos = [\"вермишель_NOUN\"]\n",
        "neg = [\"изображаться_VERB\"]\n",
        "\n",
        "dist = word2vec.most_similar(positive=pos, negative=neg, topn=10)\n",
        "for i in dist:\n",
        " print (i)"
      ],
      "metadata": {
        "colab": {
          "base_uri": "https://localhost:8080/"
        },
        "id": "uk7QbF3GGLT5",
        "outputId": "65efc8c8-b932-44d3-a4f5-e61c5fbeac87"
      },
      "execution_count": 102,
      "outputs": [
        {
          "output_type": "stream",
          "name": "stdout",
          "text": [
            "('гуляш_NOUN', 0.5570412874221802)\n",
            "('макароны_NOUN', 0.5457099676132202)\n",
            "('супчик_NOUN', 0.5273610353469849)\n",
            "('вкусность_NOUN', 0.5160903930664062)\n",
            "('повидло_NOUN', 0.5150296092033386)\n",
            "('запеканка_NOUN', 0.505478024482727)\n",
            "('пельмешка_NOUN', 0.5028471350669861)\n",
            "('сухарик_NOUN', 0.5017582774162292)\n",
            "('пожарить_VERB', 0.49732542037963867)\n",
            "('плов_NOUN', 0.49692296981811523)\n"
          ]
        }
      ]
    },
    {
      "cell_type": "code",
      "source": [
        "pos = [\"вермишель_NOUN\"]\n",
        "neg = [\"изображаться_VERB\"]\n",
        "dist = word2vec.most_similar(positive=pos, negative=neg, topn=10)\n",
        "for i in dist:\n",
        "  e = pat.match(i[0])\n",
        "  if e is not None:\n",
        "    print(e.group(1))"
      ],
      "metadata": {
        "colab": {
          "base_uri": "https://localhost:8080/"
        },
        "id": "wqBn8jUaGL75",
        "outputId": "817d2611-020f-4681-972f-27044d69e237"
      },
      "execution_count": 103,
      "outputs": [
        {
          "output_type": "stream",
          "name": "stdout",
          "text": [
            "гуляш\n",
            "макароны\n",
            "супчик\n",
            "вкусность\n",
            "повидло\n",
            "запеканка\n",
            "пельмешка\n",
            "сухарик\n",
            "плов\n"
          ]
        }
      ]
    },
    {
      "cell_type": "code",
      "source": [
        "pos = [\"вермишель_NOUN\"]\n",
        "neg = [\"совращения_NOUN\"]\n",
        "\n",
        "dist = word2vec.most_similar(positive=pos, negative=neg, topn=10)\n",
        "for i in dist:\n",
        " print (i)"
      ],
      "metadata": {
        "colab": {
          "base_uri": "https://localhost:8080/"
        },
        "id": "4YTsqUYofm51",
        "outputId": "a29a069f-9271-41cc-8e19-1ee41dc93fa7"
      },
      "execution_count": 104,
      "outputs": [
        {
          "output_type": "stream",
          "name": "stdout",
          "text": [
            "('макароны_NOUN', 0.560213029384613)\n",
            "('супчик_NOUN', 0.5527587532997131)\n",
            "('суп-пюре_NOUN', 0.5334231853485107)\n",
            "('сырник_NOUN', 0.5326231718063354)\n",
            "('гуляш_NOUN', 0.5293694734573364)\n",
            "('суп_NOUN', 0.5243383049964905)\n",
            "('пармезан_NOUN', 0.5220317840576172)\n",
            "('тушеный_ADJ', 0.5214986801147461)\n",
            "('гречка_NOUN', 0.515851616859436)\n",
            "('плов_NOUN', 0.509719967842102)\n"
          ]
        }
      ]
    },
    {
      "cell_type": "code",
      "source": [
        "pos = [\"вермишель_NOUN\"]\n",
        "neg = [\"совращения_NOUN\"]\n",
        "dist = word2vec.most_similar(positive=pos, negative=neg, topn=10)\n",
        "for i in dist:\n",
        "  e = pat.match(i[0])\n",
        "  if e is not None:\n",
        "    print(e.group(1))"
      ],
      "metadata": {
        "colab": {
          "base_uri": "https://localhost:8080/"
        },
        "id": "Wm0Kz5FJf3Nm",
        "outputId": "67f2b461-0ff8-4025-dda5-c59420ab59cd"
      },
      "execution_count": 105,
      "outputs": [
        {
          "output_type": "stream",
          "name": "stdout",
          "text": [
            "макароны\n",
            "супчик\n",
            "суп-пюре\n",
            "сырник\n",
            "гуляш\n",
            "суп\n",
            "пармезан\n",
            "гречка\n",
            "плов\n"
          ]
        }
      ]
    }
  ]
}